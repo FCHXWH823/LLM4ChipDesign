{
  "nbformat": 4,
  "nbformat_minor": 0,
  "metadata": {
    "colab": {
      "provenance": []
    },
    "kernelspec": {
      "name": "python3",
      "display_name": "Python 3"
    },
    "language_info": {
      "name": "python"
    }
  },
  "cells": [
    {
      "cell_type": "markdown",
      "source": [
        "# c2hlsc: A framework for automatically refactoring C code into synthesizable C code"
      ],
      "metadata": {
        "id": "Yg7FGBXIX5nw"
      }
    },
    {
      "cell_type": "markdown",
      "source": [
        "## Requirements\n",
        "\n",
        "The current version of the framework uses **Catapult HLS**."
      ],
      "metadata": {
        "id": "mNbqxgKWYAuL"
      }
    },
    {
      "cell_type": "markdown",
      "source": [
        "Download gcc, g++ and gdb"
      ],
      "metadata": {
        "id": "2GrhRa-z0mTw"
      }
    },
    {
      "cell_type": "code",
      "source": [
        "!apt-get install -y gdb gcc g++ catapult"
      ],
      "metadata": {
        "colab": {
          "base_uri": "https://localhost:8080/"
        },
        "id": "78O1QZQ1kFb4",
        "outputId": "779325ef-6026-457e-90b9-7ac248e868f6"
      },
      "execution_count": 30,
      "outputs": [
        {
          "output_type": "stream",
          "name": "stdout",
          "text": [
            "Reading package lists... Done\n",
            "Building dependency tree... Done\n",
            "Reading state information... Done\n",
            "E: Unable to locate package catapult\n"
          ]
        }
      ]
    },
    {
      "cell_type": "markdown",
      "source": [
        "Download source code"
      ],
      "metadata": {
        "id": "GJcvy-jpYlBp"
      }
    },
    {
      "cell_type": "code",
      "source": [
        "!git clone https://github.com/Lucaz97/c2hlsc.git"
      ],
      "metadata": {
        "colab": {
          "base_uri": "https://localhost:8080/"
        },
        "id": "-jpydxEjYiKS",
        "outputId": "7b29bb45-e95b-42d8-9649-393c272f33b1"
      },
      "execution_count": 1,
      "outputs": [
        {
          "output_type": "stream",
          "name": "stdout",
          "text": [
            "Cloning into 'c2hlsc'...\n",
            "remote: Enumerating objects: 11388, done.\u001b[K\n",
            "remote: Counting objects: 100% (2625/2625), done.\u001b[K\n",
            "remote: Compressing objects: 100% (1191/1191), done.\u001b[K\n",
            "remote: Total 11388 (delta 1596), reused 2402 (delta 1394), pack-reused 8763 (from 1)\u001b[K\n",
            "Receiving objects: 100% (11388/11388), 167.49 MiB | 28.90 MiB/s, done.\n",
            "Resolving deltas: 100% (3771/3771), done.\n"
          ]
        }
      ]
    },
    {
      "cell_type": "code",
      "execution_count": 2,
      "metadata": {
        "colab": {
          "base_uri": "https://localhost:8080/"
        },
        "id": "jX5F7IiAX0Kx",
        "outputId": "f2b798a7-ecd4-4cff-eb2f-056ade629802"
      },
      "outputs": [
        {
          "output_type": "stream",
          "name": "stdout",
          "text": [
            "Requirement already satisfied: pycparser in /usr/local/lib/python3.12/dist-packages (2.22)\n",
            "Requirement already satisfied: openai in /usr/local/lib/python3.12/dist-packages (1.100.0)\n",
            "Collecting anthropic\n",
            "  Downloading anthropic-0.64.0-py3-none-any.whl.metadata (27 kB)\n",
            "Requirement already satisfied: pyyaml in /usr/local/lib/python3.12/dist-packages (6.0.2)\n",
            "Requirement already satisfied: anyio<5,>=3.5.0 in /usr/local/lib/python3.12/dist-packages (from openai) (4.10.0)\n",
            "Requirement already satisfied: distro<2,>=1.7.0 in /usr/local/lib/python3.12/dist-packages (from openai) (1.9.0)\n",
            "Requirement already satisfied: httpx<1,>=0.23.0 in /usr/local/lib/python3.12/dist-packages (from openai) (0.28.1)\n",
            "Requirement already satisfied: jiter<1,>=0.4.0 in /usr/local/lib/python3.12/dist-packages (from openai) (0.10.0)\n",
            "Requirement already satisfied: pydantic<3,>=1.9.0 in /usr/local/lib/python3.12/dist-packages (from openai) (2.11.7)\n",
            "Requirement already satisfied: sniffio in /usr/local/lib/python3.12/dist-packages (from openai) (1.3.1)\n",
            "Requirement already satisfied: tqdm>4 in /usr/local/lib/python3.12/dist-packages (from openai) (4.67.1)\n",
            "Requirement already satisfied: typing-extensions<5,>=4.11 in /usr/local/lib/python3.12/dist-packages (from openai) (4.14.1)\n",
            "Requirement already satisfied: idna>=2.8 in /usr/local/lib/python3.12/dist-packages (from anyio<5,>=3.5.0->openai) (3.10)\n",
            "Requirement already satisfied: certifi in /usr/local/lib/python3.12/dist-packages (from httpx<1,>=0.23.0->openai) (2025.8.3)\n",
            "Requirement already satisfied: httpcore==1.* in /usr/local/lib/python3.12/dist-packages (from httpx<1,>=0.23.0->openai) (1.0.9)\n",
            "Requirement already satisfied: h11>=0.16 in /usr/local/lib/python3.12/dist-packages (from httpcore==1.*->httpx<1,>=0.23.0->openai) (0.16.0)\n",
            "Requirement already satisfied: annotated-types>=0.6.0 in /usr/local/lib/python3.12/dist-packages (from pydantic<3,>=1.9.0->openai) (0.7.0)\n",
            "Requirement already satisfied: pydantic-core==2.33.2 in /usr/local/lib/python3.12/dist-packages (from pydantic<3,>=1.9.0->openai) (2.33.2)\n",
            "Requirement already satisfied: typing-inspection>=0.4.0 in /usr/local/lib/python3.12/dist-packages (from pydantic<3,>=1.9.0->openai) (0.4.1)\n",
            "Downloading anthropic-0.64.0-py3-none-any.whl (297 kB)\n",
            "\u001b[2K   \u001b[90m━━━━━━━━━━━━━━━━━━━━━━━━━━━━━━━━━━━━━━━━\u001b[0m \u001b[32m297.2/297.2 kB\u001b[0m \u001b[31m17.1 MB/s\u001b[0m eta \u001b[36m0:00:00\u001b[0m\n",
            "\u001b[?25hInstalling collected packages: anthropic\n",
            "Successfully installed anthropic-0.64.0\n"
          ]
        }
      ],
      "source": [
        "!pip install pycparser openai anthropic pyyaml"
      ]
    },
    {
      "cell_type": "markdown",
      "source": [
        "## Run"
      ],
      "metadata": {
        "id": "dmZZO7xy0YEg"
      }
    },
    {
      "cell_type": "code",
      "source": [
        "import os\n",
        "os.environ[\"OPENAI_API_KEY\"] = \"\""
      ],
      "metadata": {
        "id": "TZNnDgtvfzoA"
      },
      "execution_count": 5,
      "outputs": []
    },
    {
      "cell_type": "code",
      "source": [
        "!cd c2hlsc/ && python src/c2hlsc.py -h"
      ],
      "metadata": {
        "colab": {
          "base_uri": "https://localhost:8080/"
        },
        "id": "AxxBf_QvhzzX",
        "outputId": "d1fb3ebc-f88d-4408-a74d-4b124e8b0bfb"
      },
      "execution_count": 9,
      "outputs": [
        {
          "output_type": "stream",
          "name": "stdout",
          "text": [
            "usage: c2hlsc.py [-h]\n",
            "                 [--model {claude-3-5-sonnet-20240620,claude-3-5-haiku-20241022,gpt-4o-mini,gpt-4-turbo-2024-04-09,gpt-3.5-turbo-0125,gpt-4o,adaptive,o3-mini,deepseek-chat,deepseek-reasoner}]\n",
            "                 [--opt_target {throughput,latency}]\n",
            "                 [--characterize CHARACTERIZE] [--opt_runs OPT_RUNS]\n",
            "                 config\n",
            "\n",
            "C2HLSC script, yaml config required\n",
            "\n",
            "positional arguments:\n",
            "  config                yaml config file with the following fields: orig_code,\n",
            "                        test_code, includes, tcl, top_function\n",
            "\n",
            "options:\n",
            "  -h, --help            show this help message and exit\n",
            "  --model {claude-3-5-sonnet-20240620,claude-3-5-haiku-20241022,gpt-4o-mini,gpt-4-turbo-2024-04-09,gpt-3.5-turbo-0125,gpt-4o,adaptive,o3-mini,deepseek-chat,deepseek-reasoner}\n",
            "                        model name to use, default is adaptive\n",
            "  --opt_target {throughput,latency}\n",
            "                        optimization target, default is latency, options are:\n",
            "                        throughput, latency\n",
            "  --characterize CHARACTERIZE\n",
            "                        using this option will run the benchmark\n",
            "                        characterization\n",
            "  --opt_runs OPT_RUNS   Number of optimization runs, default is 1\n"
          ]
        }
      ]
    },
    {
      "cell_type": "code",
      "source": [
        "!cd c2hlsc/ && python src/c2hlsc.py inputs/aes/config_aes.yaml --model gpt-4o-mini --opt_target throughput"
      ],
      "metadata": {
        "id": "73vatKYdf-ug"
      },
      "execution_count": null,
      "outputs": []
    }
  ]
}