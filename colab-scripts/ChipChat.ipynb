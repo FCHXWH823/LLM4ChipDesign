{
  "nbformat": 4,
  "nbformat_minor": 0,
  "metadata": {
    "colab": {
      "provenance": []
    },
    "kernelspec": {
      "name": "python3",
      "display_name": "Python 3"
    },
    "language_info": {
      "name": "python"
    }
  },
  "cells": [
    {
      "cell_type": "markdown",
      "source": [
        "# Getting set up"
      ],
      "metadata": {
        "id": "m8ajURpMKH3k"
      }
    },
    {
      "cell_type": "markdown",
      "source": [
        "## Setting up the notebook"
      ],
      "metadata": {
        "id": "-V7YtDoDKTWp"
      }
    },
    {
      "cell_type": "code",
      "execution_count": 1,
      "metadata": {
        "colab": {
          "base_uri": "https://localhost:8080/"
        },
        "id": "Wk0tyl8wJq1A",
        "outputId": "b45a6335-2de8-45cd-ed10-30420640816c"
      },
      "outputs": [
        {
          "output_type": "stream",
          "name": "stdout",
          "text": [
            "Requirement already satisfied: openai in /usr/local/lib/python3.12/dist-packages (1.104.2)\n",
            "Requirement already satisfied: anyio<5,>=3.5.0 in /usr/local/lib/python3.12/dist-packages (from openai) (4.10.0)\n",
            "Requirement already satisfied: distro<2,>=1.7.0 in /usr/local/lib/python3.12/dist-packages (from openai) (1.9.0)\n",
            "Requirement already satisfied: httpx<1,>=0.23.0 in /usr/local/lib/python3.12/dist-packages (from openai) (0.28.1)\n",
            "Requirement already satisfied: jiter<1,>=0.4.0 in /usr/local/lib/python3.12/dist-packages (from openai) (0.10.0)\n",
            "Requirement already satisfied: pydantic<3,>=1.9.0 in /usr/local/lib/python3.12/dist-packages (from openai) (2.11.7)\n",
            "Requirement already satisfied: sniffio in /usr/local/lib/python3.12/dist-packages (from openai) (1.3.1)\n",
            "Requirement already satisfied: tqdm>4 in /usr/local/lib/python3.12/dist-packages (from openai) (4.67.1)\n",
            "Requirement already satisfied: typing-extensions<5,>=4.11 in /usr/local/lib/python3.12/dist-packages (from openai) (4.15.0)\n",
            "Requirement already satisfied: idna>=2.8 in /usr/local/lib/python3.12/dist-packages (from anyio<5,>=3.5.0->openai) (3.10)\n",
            "Requirement already satisfied: certifi in /usr/local/lib/python3.12/dist-packages (from httpx<1,>=0.23.0->openai) (2025.8.3)\n",
            "Requirement already satisfied: httpcore==1.* in /usr/local/lib/python3.12/dist-packages (from httpx<1,>=0.23.0->openai) (1.0.9)\n",
            "Requirement already satisfied: h11>=0.16 in /usr/local/lib/python3.12/dist-packages (from httpcore==1.*->httpx<1,>=0.23.0->openai) (0.16.0)\n",
            "Requirement already satisfied: annotated-types>=0.6.0 in /usr/local/lib/python3.12/dist-packages (from pydantic<3,>=1.9.0->openai) (0.7.0)\n",
            "Requirement already satisfied: pydantic-core==2.33.2 in /usr/local/lib/python3.12/dist-packages (from pydantic<3,>=1.9.0->openai) (2.33.2)\n",
            "Requirement already satisfied: typing-inspection>=0.4.0 in /usr/local/lib/python3.12/dist-packages (from pydantic<3,>=1.9.0->openai) (0.4.1)\n",
            "Hit:1 https://cli.github.com/packages stable InRelease\n",
            "Hit:2 http://archive.ubuntu.com/ubuntu jammy InRelease\n",
            "Get:3 http://security.ubuntu.com/ubuntu jammy-security InRelease [129 kB]\n",
            "Get:4 https://r2u.stat.illinois.edu/ubuntu jammy InRelease [6,555 B]\n",
            "Get:5 http://archive.ubuntu.com/ubuntu jammy-updates InRelease [128 kB]\n",
            "Get:6 https://developer.download.nvidia.com/compute/cuda/repos/ubuntu2204/x86_64  InRelease [1,581 B]\n",
            "Hit:7 https://ppa.launchpadcontent.net/deadsnakes/ppa/ubuntu jammy InRelease\n",
            "Get:8 https://cloud.r-project.org/bin/linux/ubuntu jammy-cran40/ InRelease [3,632 B]\n",
            "Hit:9 https://ppa.launchpadcontent.net/graphics-drivers/ppa/ubuntu jammy InRelease\n",
            "Get:10 http://archive.ubuntu.com/ubuntu jammy-backports InRelease [127 kB]\n",
            "Hit:11 https://ppa.launchpadcontent.net/ubuntugis/ppa/ubuntu jammy InRelease\n",
            "Get:12 https://r2u.stat.illinois.edu/ubuntu jammy/main all Packages [9,242 kB]\n",
            "Get:13 https://developer.download.nvidia.com/compute/cuda/repos/ubuntu2204/x86_64  Packages [1,966 kB]\n",
            "Get:14 https://r2u.stat.illinois.edu/ubuntu jammy/main amd64 Packages [2,791 kB]\n",
            "Get:15 http://security.ubuntu.com/ubuntu jammy-security/universe amd64 Packages [1,272 kB]\n",
            "Get:16 http://security.ubuntu.com/ubuntu jammy-security/main amd64 Packages [3,310 kB]\n",
            "Get:17 http://archive.ubuntu.com/ubuntu jammy-updates/main amd64 Packages [3,623 kB]\n",
            "Get:18 http://archive.ubuntu.com/ubuntu jammy-updates/universe amd64 Packages [1,580 kB]\n",
            "Fetched 24.2 MB in 4s (5,864 kB/s)\n",
            "Reading package lists... Done\n",
            "W: Skipping acquire of configured file 'main/source/Sources' as repository 'https://r2u.stat.illinois.edu/ubuntu jammy InRelease' does not seem to provide it (sources.list entry misspelt?)\n",
            "Reading package lists... Done\n",
            "Building dependency tree... Done\n",
            "Reading state information... Done\n",
            "Suggested packages:\n",
            "  gtkwave\n",
            "The following NEW packages will be installed:\n",
            "  iverilog\n",
            "0 upgraded, 1 newly installed, 0 to remove and 40 not upgraded.\n",
            "Need to get 2,130 kB of archives.\n",
            "After this operation, 6,749 kB of additional disk space will be used.\n",
            "Get:1 http://archive.ubuntu.com/ubuntu jammy/universe amd64 iverilog amd64 11.0-1.1 [2,130 kB]\n",
            "Fetched 2,130 kB in 1s (2,309 kB/s)\n",
            "Selecting previously unselected package iverilog.\n",
            "(Reading database ... 126374 files and directories currently installed.)\n",
            "Preparing to unpack .../iverilog_11.0-1.1_amd64.deb ...\n",
            "Unpacking iverilog (11.0-1.1) ...\n",
            "Setting up iverilog (11.0-1.1) ...\n",
            "Processing triggers for man-db (2.10.2-1) ...\n"
          ]
        }
      ],
      "source": [
        "### Installing dependencies\n",
        "!pip install openai\n",
        "\n",
        "!apt-get update\n",
        "!apt-get install -y iverilog"
      ]
    },
    {
      "cell_type": "markdown",
      "source": [
        "## Use LLM to generate Verilog code from natural language description"
      ],
      "metadata": {
        "id": "21hLN_oKKu3N"
      }
    },
    {
      "cell_type": "markdown",
      "source": [
        "### Example 1: binary_to_bcd"
      ],
      "metadata": {
        "id": "qJBgq3LIiVvm"
      }
    },
    {
      "cell_type": "code",
      "source": [
        "! mkdir -p binary_to_bcd\n",
        "! cd binary_to_bcd && curl -O https://raw.githubusercontent.com/FCHXWH823/LLM4ChipDesign/fe806e8f8b7cb8442ce161f452d070cfcf953656/VerilogGenBenchmark/TestBench/binary_to_bcd_tb.v"
      ],
      "metadata": {
        "id": "FHG8zBnIm-JL"
      },
      "execution_count": null,
      "outputs": []
    },
    {
      "cell_type": "code",
      "source": [
        "verilog_generation_prompt = '''\n",
        "I am trying to create a Verilog model binary_to_bcd_converter for a binary to binary-coded-decimal converter. It must meet the following specifications:\n",
        "\t- Inputs:\n",
        "\t\t- Binary input (5-bits)\n",
        "\t- Outputs:\n",
        "\t\t- BCD (8-bits: 4-bits for the 10's place and 4-bits for the 1's place)\n",
        "\n",
        "How would I write a design that meets these specifications?\n",
        "'''"
      ],
      "metadata": {
        "id": "bZpkQ6vPiqjW"
      },
      "execution_count": 83,
      "outputs": []
    },
    {
      "cell_type": "markdown",
      "source": [
        "Now you can use the openai library to generate text from your prompt.\n",
        "\n",
        "Before using LLMs for Verilog generation, you have to first get the api-key:\n",
        "\n",
        "openai llms: https://platform.openai.com/api-keys\n",
        "deepseek llms: https://platform.deepseek.com/sign_in\n",
        "free llms provided by NVIDIA: https://build.nvidia.com/explore/discover"
      ],
      "metadata": {
        "id": "qIfOGR9cl6T8"
      }
    },
    {
      "cell_type": "code",
      "source": [
        "from openai import OpenAI\n",
        "import os\n",
        "client = OpenAI(\n",
        "    api_key = \"\"\n",
        ")\n",
        "\n",
        "completion = client.chat.completions.create(\n",
        "  model = \"gpt-4o-mini\",\n",
        "  messages=[{\"role\":\"user\",\"content\":verilog_generation_prompt}],\n",
        "  max_tokens=1024, # limits the maximum number of tokens (words or pieces of words) that the model will generate in its response.\n",
        "  stream=False\n",
        ")\n",
        "\n",
        "print(completion.choices[0].message.content)"
      ],
      "metadata": {
        "colab": {
          "base_uri": "https://localhost:8080/"
        },
        "id": "CZ31luwgi0Lp",
        "outputId": "8f7e59ea-040e-4032-bbfe-0c4d5df24aa7"
      },
      "execution_count": 85,
      "outputs": [
        {
          "output_type": "stream",
          "name": "stdout",
          "text": [
            "To create a Verilog module for a binary to binary-coded decimal (BCD) converter, we need to process a 5-bit binary input and convert it into an 8-bit BCD output. The BCD representation will hold the tens place and the ones place, each using 4 bits.\n",
            "\n",
            "The algorithm typically used for binary to BCD conversion is the double-dabble algorithm. This algorithm involves shifting the binary number and conditionally adding 3 to the BCD representation when necessary to ensure each BCD digit is valid (i.e., less than 10).\n",
            "\n",
            "Here’s a simple Verilog implementation of a binary to BCD converter based on these specifications:\n",
            "\n",
            "```verilog\n",
            "module binary_to_bcd_converter (\n",
            "    input wire [4:0] binary_input, // 5-bit binary input\n",
            "    output reg [7:0] bcd_output     // 8-bit BCD output (4 bits for tens, 4 bits for ones)\n",
            ");\n",
            "\n",
            "// Internal registers for BCD representation\n",
            "reg [3:0] bcd_tens; // Tens place\n",
            "reg [3:0] bcd_ones; // Ones place\n",
            "integer i; // Loop variable\n",
            "\n",
            "always @* begin\n",
            "    // Initialize BCD values to 0\n",
            "    bcd_tens = 4'b0000;\n",
            "    bcd_ones = 4'b0000;\n",
            "\n",
            "    // Convert binary to BCD using double-dabble algorithm\n",
            "    for (i = 0; i < 5; i = i + 1) begin\n",
            "        // Shift left the BCD digits to make room for the next binary bit\n",
            "        if (bcd_tens >= 5)\n",
            "            bcd_tens = bcd_tens + 4'b0011; // Add 3 to tens place if necessary\n",
            "\n",
            "        if (bcd_ones >= 5)\n",
            "            bcd_ones = bcd_ones + 4'b0011; // Add 3 to ones place if necessary\n",
            "\n",
            "        // Shift BCD values left to add a new binary bit\n",
            "        {bcd_tens, bcd_ones} = {bcd_tens, bcd_ones} << 1;\n",
            "\n",
            "        // Add the next bit of the binary input\n",
            "        bcd_ones[0] = binary_input[4 - i]; // Add the next bit of the binary input\n",
            "    end\n",
            "\n",
            "    // Combine BCD places into the final output\n",
            "    bcd_output = {bcd_tens, bcd_ones};\n",
            "end\n",
            "\n",
            "endmodule\n",
            "```\n",
            "\n",
            "### Explanation:\n",
            "1. **Module Declaration**: The module is declared with inputs and outputs according to the specifications.\n",
            "2. **Registers for BCD Digits**: We maintain separate 4-bit registers for the tens (`bcd_tens`) and ones (`bcd_ones`) places.\n",
            "3. **Double-Dabble Algorithm**:\n",
            "   - We loop 5 times, each time:\n",
            "     - Check if the tens or ones places need to be adjusted (if they are greater than or equal to 5, we add 3).\n",
            "     - Shift the current BCD values left to make room for the next binary bit.\n",
            "     - Shift the new bit into the ones place.\n",
            "4. **Output Assignment**: Finally, we assign the combined tens and ones places to the output `bcd_output`.\n",
            "\n",
            "### Testing the Module:\n",
            "To validate the functionality of the module, you can create a testbench that applies various binary input values (0 to 31) and checks the corresponding BCD outputs.\n",
            "\n",
            "This basic implementation should work well for your needs, converting a 5-bit binary input to an 8-bit BCD output. Adjust the naming and architecture as necessary to fit into your larger digital design.\n"
          ]
        }
      ]
    },
    {
      "cell_type": "markdown",
      "source": [
        "Next, extract the generated verilog code from LLM response."
      ],
      "metadata": {
        "id": "RPMiOb1Nl1E-"
      }
    },
    {
      "cell_type": "code",
      "source": [
        "output_verilog_code = '''\n",
        "module binary_to_bcd_converter (\n",
        "    input wire [4:0] binary_input, // 5-bit binary input\n",
        "    output reg [7:0] bcd_output     // 8-bit BCD output (4 bits for tens, 4 bits for ones)\n",
        ");\n",
        "\n",
        "// Internal registers for BCD representation\n",
        "reg [3:0] bcd_tens; // Tens place\n",
        "reg [3:0] bcd_ones; // Ones place\n",
        "integer i; // Loop variable\n",
        "\n",
        "always @* begin\n",
        "    // Initialize BCD values to 0\n",
        "    bcd_tens = 4'b0000;\n",
        "    bcd_ones = 4'b0000;\n",
        "\n",
        "    // Convert binary to BCD using double-dabble algorithm\n",
        "    for (i = 0; i < 5; i = i + 1) begin\n",
        "        // Shift left the BCD digits to make room for the next binary bit\n",
        "        if (bcd_tens >= 5)\n",
        "            bcd_tens = bcd_tens + 4'b0011; // Add 3 to tens place if necessary\n",
        "\n",
        "        if (bcd_ones >= 5)\n",
        "            bcd_ones = bcd_ones + 4'b0011; // Add 3 to ones place if necessary\n",
        "\n",
        "        // Shift BCD values left to add a new binary bit\n",
        "        {bcd_tens, bcd_ones} = {bcd_tens, bcd_ones} << 1;\n",
        "\n",
        "        // Add the next bit of the binary input\n",
        "        bcd_ones[0] = binary_input[4 - i]; // Add the next bit of the binary input\n",
        "    end\n",
        "\n",
        "    // Combine BCD places into the final output\n",
        "    bcd_output = {bcd_tens, bcd_ones};\n",
        "end\n",
        "\n",
        "endmodule\n",
        "'''\n",
        "filename = \"binary_to_bcd/binary_to_bcd.v\"\n",
        "# Write the extracted Verilog code to the file\n",
        "with open(filename, \"w\") as f:\n",
        "    f.write(output_verilog_code)"
      ],
      "metadata": {
        "id": "dOIqEPj5jSqx"
      },
      "execution_count": 86,
      "outputs": []
    },
    {
      "cell_type": "markdown",
      "source": [
        "Use iverilog to verify the correctness of LLM generated verilog"
      ],
      "metadata": {
        "id": "TS7JaqmZl_ny"
      }
    },
    {
      "cell_type": "code",
      "source": [
        "!cd binary_to_bcd/ && iverilog -g2012 -o binary_to_bcd.vvp binary_to_bcd.v binary_to_bcd_tb.v && vvp binary_to_bcd.vvp"
      ],
      "metadata": {
        "colab": {
          "base_uri": "https://localhost:8080/"
        },
        "id": "AgOQT5M7jha3",
        "outputId": "ba7d0b8c-0782-42b8-9a8a-eb64cbad9a80"
      },
      "execution_count": 87,
      "outputs": [
        {
          "output_type": "stream",
          "name": "stdout",
          "text": [
            "Testing Binary-to-BCD Converter...\n",
            "VCD info: dumpfile my_design.vcd opened for output.\n",
            "All test cases passed!\n"
          ]
        }
      ]
    },
    {
      "cell_type": "markdown",
      "source": [
        "### Example 2: Sequence detector"
      ],
      "metadata": {
        "id": "4ARE7bbeZHR2"
      }
    },
    {
      "cell_type": "code",
      "source": [
        "! mkdir -p sequence_detector\n",
        "! cd sequence_detector && curl -O https://raw.githubusercontent.com/FCHXWH823/LLM4ChipDesign/fe806e8f8b7cb8442ce161f452d070cfcf953656/VerilogGenBenchmark/TestBench/sequence_detector_tb.v"
      ],
      "metadata": {
        "id": "597rh2aXnFn_"
      },
      "execution_count": null,
      "outputs": []
    },
    {
      "cell_type": "code",
      "source": [
        "verilog_generation_prompt = '''\n",
        "I am trying to create a Verilog model for a sequence detector. It must meet the following specifications:\n",
        "\t- Inputs:\n",
        "\t\t- Clock\n",
        "\t\t- Active-low reset\n",
        "\t\t- Data (3 bits)\n",
        "\t- Outputs:\n",
        "\t\t- Sequence found\n",
        "\n",
        "While enabled, it should detect the following sequence of binary input values:\n",
        "\t- 0b001\n",
        "\t- 0b101\n",
        "\t- 0b110\n",
        "\t- 0b000\n",
        "\t- 0b110\n",
        "\t- 0b110\n",
        "\t- 0b011\n",
        "\t- 0b101\n",
        "\n",
        "How would I write a design that meets these specifications?\n",
        "'''"
      ],
      "metadata": {
        "id": "5gQpRbNbZGWF"
      },
      "execution_count": 63,
      "outputs": []
    },
    {
      "cell_type": "code",
      "source": [
        "from openai import OpenAI\n",
        "import os\n",
        "client = OpenAI(\n",
        "    api_key = \"\"\n",
        ")\n",
        "\n",
        "completion = client.chat.completions.create(\n",
        "  model = \"gpt-4o-mini\",\n",
        "  messages=[{\"role\":\"user\",\"content\":verilog_generation_prompt}],\n",
        "  max_tokens=1024, # limits the maximum number of tokens (words or pieces of words) that the model will generate in its response.\n",
        "  stream=False\n",
        ")\n",
        "\n",
        "print(completion.choices[0].message.content)"
      ],
      "metadata": {
        "colab": {
          "base_uri": "https://localhost:8080/"
        },
        "id": "JSc-LvHEZSTR",
        "outputId": "b8155345-afc4-45c7-b36d-a575631a5612"
      },
      "execution_count": 64,
      "outputs": [
        {
          "output_type": "stream",
          "name": "stdout",
          "text": [
            "To create a sequence detector in Verilog that detects the specified sequences of 3-bit binary input values, you can use a finite state machine (FSM) approach. The sequences we need to detect are 0b001, 0b101, 0b110, 0b000, 0b110, 0b110, 0b011, and 0b101. \n",
            "\n",
            "Below is a sample implementation of a Verilog model for your sequence detector:\n",
            "\n",
            "```verilog\n",
            "module sequence_detector (\n",
            "    input         clk,\n",
            "    input         reset_n,\n",
            "    input  [2:0] data,\n",
            "    output reg    sequence_found\n",
            ");\n",
            "\n",
            "    // State encoding\n",
            "    typedef enum reg [3:0] {\n",
            "        S_IDLE      = 4'b0000,\n",
            "        S_001       = 4'b0001,\n",
            "        S_101       = 4'b0010,\n",
            "        S_110       = 4'b0011,\n",
            "        S_000       = 4'b0100,\n",
            "        S_011       = 4'b0101\n",
            "    } state_t;\n",
            "\n",
            "    // State variables\n",
            "    state_t current_state, next_state;\n",
            "\n",
            "    // Sequence found flag\n",
            "    reg found_flag;\n",
            "\n",
            "    // State transition\n",
            "    always @(posedge clk or negedge reset_n) begin\n",
            "        if (!reset_n) begin\n",
            "            current_state <= S_IDLE;\n",
            "        end else begin\n",
            "            current_state <= next_state;\n",
            "        end\n",
            "    end\n",
            "\n",
            "    // Next state logic\n",
            "    always @(*) begin\n",
            "        case (current_state)\n",
            "            S_IDLE: begin\n",
            "                if (data == 3'b001)\n",
            "                    next_state = S_001;\n",
            "                else\n",
            "                    next_state = S_IDLE;\n",
            "            end\n",
            "            S_001: begin\n",
            "                if (data == 3'b101)\n",
            "                    next_state = S_101;\n",
            "                else\n",
            "                    next_state = S_IDLE;\n",
            "            end\n",
            "            S_101: begin\n",
            "                if (data == 3'b110)\n",
            "                    next_state = S_110;\n",
            "                else\n",
            "                    next_state = S_IDLE;\n",
            "            end\n",
            "            S_110: begin\n",
            "                if (data == 3'b000)\n",
            "                    next_state = S_000;\n",
            "                else\n",
            "                    next_state = S_IDLE;\n",
            "            end\n",
            "            S_000: begin\n",
            "                if (data == 3'b110)\n",
            "                    next_state = S_110;\n",
            "                else\n",
            "                    next_state = S_IDLE;\n",
            "            end\n",
            "            // Return to S_IDLE for any unrecognized states\n",
            "            default: begin\n",
            "                next_state = S_IDLE;\n",
            "            end\n",
            "        endcase\n",
            "    end\n",
            "\n",
            "    // Output logic\n",
            "    always @(posedge clk or negedge reset_n) begin\n",
            "        if (!reset_n) begin\n",
            "            sequence_found <= 0;\n",
            "        end else begin\n",
            "            // Set found_flag only for successful transitions\n",
            "            sequence_found <= (current_state == S_110 && next_state == S_011) ||\n",
            "                              (current_state == S_011 && next_state == S_101);\n",
            "        end\n",
            "    end\n",
            "\n",
            "endmodule\n",
            "```\n",
            "\n",
            "### Explanation of the Code:\n",
            "1. **State Definition**: The finite state machine has distinct states for each segment of the sequence we want to detect, with an initial idle state.\n",
            "\n",
            "2. **State Transition Logic**: Each state will transition to the next state based on the input data. The state transitions are designed to follow the order of the specified binary sequences. \n",
            "\n",
            "3. **Output Logic**: The `sequence_found` output is set based on certain transitions where a complete sequence appears to be detected. Adjust this logic based on your specific criteria for detecting when a sequence is \"found.\"\n",
            "\n",
            "4. **Asynchronous Reset**: The reset signal allows the FSM to return to the idle state when necessary.\n",
            "\n",
            "### Additional Notes:\n",
            "- Make sure to thoroughly test your sequence detector with different sequences of inputs.\n",
            "- You might want to modify the FSM further depending on whether you handle overlapping sequences or if there are specific edge cases to consider.\n",
            "- This design assumes sequences from idle without handling overlapping sequences specifically; depending on the requirement, you might need to add more logic for additional conditions or states.\n"
          ]
        }
      ]
    },
    {
      "cell_type": "markdown",
      "source": [
        "Next, extract the generated verilog code from LLM response."
      ],
      "metadata": {
        "id": "xkD1xrarZnKk"
      }
    },
    {
      "cell_type": "code",
      "source": [
        "output_verilog_code = '''\n",
        "module sequence_detector (\n",
        "    input         clk,\n",
        "    input         reset_n,\n",
        "    input  [2:0] data,\n",
        "    output reg    sequence_found\n",
        ");\n",
        "\n",
        "    // State encoding\n",
        "    typedef enum reg [3:0] {\n",
        "        S_IDLE      = 4'b0000,\n",
        "        S_001       = 4'b0001,\n",
        "        S_101       = 4'b0010,\n",
        "        S_110       = 4'b0011,\n",
        "        S_000       = 4'b0100,\n",
        "        S_011       = 4'b0101\n",
        "    } state_t;\n",
        "\n",
        "    // State variables\n",
        "    state_t current_state, next_state;\n",
        "\n",
        "    // Sequence found flag\n",
        "    reg found_flag;\n",
        "\n",
        "    // State transition\n",
        "    always @(posedge clk or negedge reset_n) begin\n",
        "        if (!reset_n) begin\n",
        "            current_state <= S_IDLE;\n",
        "        end else begin\n",
        "            current_state <= next_state;\n",
        "        end\n",
        "    end\n",
        "\n",
        "    // Next state logic\n",
        "    always @(*) begin\n",
        "        case (current_state)\n",
        "            S_IDLE: begin\n",
        "                if (data == 3'b001)\n",
        "                    next_state = S_001;\n",
        "                else\n",
        "                    next_state = S_IDLE;\n",
        "            end\n",
        "            S_001: begin\n",
        "                if (data == 3'b101)\n",
        "                    next_state = S_101;\n",
        "                else\n",
        "                    next_state = S_IDLE;\n",
        "            end\n",
        "            S_101: begin\n",
        "                if (data == 3'b110)\n",
        "                    next_state = S_110;\n",
        "                else\n",
        "                    next_state = S_IDLE;\n",
        "            end\n",
        "            S_110: begin\n",
        "                if (data == 3'b000)\n",
        "                    next_state = S_000;\n",
        "                else\n",
        "                    next_state = S_IDLE;\n",
        "            end\n",
        "            S_000: begin\n",
        "                if (data == 3'b110)\n",
        "                    next_state = S_110;\n",
        "                else\n",
        "                    next_state = S_IDLE;\n",
        "            end\n",
        "            // Return to S_IDLE for any unrecognized states\n",
        "            default: begin\n",
        "                next_state = S_IDLE;\n",
        "            end\n",
        "        endcase\n",
        "    end\n",
        "\n",
        "    // Output logic\n",
        "    always @(posedge clk or negedge reset_n) begin\n",
        "        if (!reset_n) begin\n",
        "            sequence_found <= 0;\n",
        "        end else begin\n",
        "            // Set found_flag only for successful transitions\n",
        "            sequence_found <= (current_state == S_110 && next_state == S_011) ||\n",
        "                              (current_state == S_011 && next_state == S_101);\n",
        "        end\n",
        "    end\n",
        "\n",
        "endmodule\n",
        "'''\n",
        "filename = \"sequence_detector/sequence_detector.v\"\n",
        "# Write the extracted Verilog code to the file\n",
        "with open(filename, \"w\") as f:\n",
        "    f.write(output_verilog_code)"
      ],
      "metadata": {
        "id": "jPEnpjA9Znzg"
      },
      "execution_count": 65,
      "outputs": []
    },
    {
      "cell_type": "code",
      "source": [
        "!cd sequence_detector/ && iverilog -g2012 -o sequence_detector.vvp sequence_detector.v sequence_detector_tb.v && vvp sequence_detector.vvp"
      ],
      "metadata": {
        "colab": {
          "base_uri": "https://localhost:8080/"
        },
        "id": "8x4mDh2oaDzU",
        "outputId": "02d4b12c-6094-4664-cecf-a49aa2dd853e"
      },
      "execution_count": 66,
      "outputs": [
        {
          "output_type": "stream",
          "name": "stdout",
          "text": [
            "Error: Cycle 8, Expected: 1, Got: 0\n"
          ]
        }
      ]
    },
    {
      "cell_type": "markdown",
      "source": [
        "### Example 3: Shift Register"
      ],
      "metadata": {
        "id": "XUSXuxsUK46C"
      }
    },
    {
      "cell_type": "code",
      "source": [
        "! mkdir -p shift_register\n",
        "! cd shift_register && curl -O https://raw.githubusercontent.com/FCHXWH823/LLM4ChipDesign/fe806e8f8b7cb8442ce161f452d070cfcf953656/VerilogGenBenchmark/TestBench/shift_register_tb.v"
      ],
      "metadata": {
        "id": "UtmVfnOjnUu1"
      },
      "execution_count": null,
      "outputs": []
    },
    {
      "cell_type": "code",
      "source": [
        "verilog_generation_prompt = '''\n",
        "I am trying to create a Verilog model for a shift register. It must meet the following specifications:\n",
        "\t- Inputs:\n",
        "\t\t- Clock\n",
        "\t\t- Active-low reset\n",
        "\t\t- Data (1 bit)\n",
        "\t\t- Shift enable\n",
        "\t- Outputs:\n",
        "\t\t- Data (8 bits)\n",
        "\n",
        "How would I write a design that meets these specifications?\n",
        "'''"
      ],
      "metadata": {
        "id": "y0U0H0LoK3Nh"
      },
      "execution_count": 17,
      "outputs": []
    },
    {
      "cell_type": "code",
      "source": [
        "from openai import OpenAI\n",
        "\n",
        "client = OpenAI(\n",
        "  api_key = \"\"\n",
        ")\n",
        "\n",
        "completion = client.chat.completions.create(\n",
        "  model=\"gpt-4o-mini\",\n",
        "  messages=[{\"role\":\"user\",\"content\":verilog_generation_prompt}],\n",
        "  max_tokens=1024, # limits the maximum number of tokens (words or pieces of words) that the model will generate in its response.\n",
        "  stream=False\n",
        ")\n",
        "\n",
        "print(completion.choices[0].message.content)\n",
        "\n"
      ],
      "metadata": {
        "colab": {
          "base_uri": "https://localhost:8080/"
        },
        "id": "Jou1AcKBTiiz",
        "outputId": "5d61650a-177f-4f18-b75b-2ae79ba71126"
      },
      "execution_count": 18,
      "outputs": [
        {
          "output_type": "stream",
          "name": "stdout",
          "text": [
            "To create a Verilog model for an 8-bit shift register with the specified inputs and outputs, you'll need to define the behavior based on the clock, reset, and control signals. Below is an example of how you might write this design:\n",
            "\n",
            "```verilog\n",
            "module shift_register (\n",
            "  input wire clk,        // Clock signal\n",
            "  input wire reset_n,    // Active-low reset signal\n",
            "  input wire data_in,    // Data input\n",
            "  input wire shift_enable,\n",
            "  output reg [7:0] data_out\n",
            ");\n",
            "\n",
            "always @(posedge clk or negedge reset_n) begin\n",
            "  if (!reset_n) begin\n",
            "    // Active-low reset, so when reset_n is 0, reset data_out to 0\n",
            "    data_out <= 8'b00000000;\n",
            "  end else if (shift_enable) begin\n",
            "    // Shift data on the rising edge of the clock when shift_enable is 1\n",
            "    data_out <= {data_out[6:0], data_in}; \n",
            "  end\n",
            "end\n",
            "\n",
            "endmodule\n",
            "```\n",
            "\n",
            "### Explanation:\n",
            "1. **Module Declaration**:\n",
            "   - The module is named `shift_register`.\n",
            "   - The module takes four input signals (`clk`, `reset_n`, `data_in`, `shift_enable`) and one output signal (`data_out`).\n",
            "   - `data_out` is declared as a 8-bit output register.\n",
            "\n",
            "2. **Sensitivity List**:\n",
            "   - `always @(posedge clk or negedge reset_n)` specifies that the block of code will execute on the rising edge of `clk` and on the falling edge of `reset_n` (active-low reset).\n",
            "   \n",
            "3. **Reset Condition**:\n",
            "   - `if (!reset_n)` checks if the reset signal is active (low).\n",
            "   - If reset is active, `data_out` is set to `8'b00000000` (all bits to 0).\n",
            "\n",
            "4. **Shift Operation**:\n",
            "   - `else if (shift_enable)` checks if the shift enable signal is active.\n",
            "   - If `shift_enable` is active, the `data_out` register shifts all bits to the left and the new bit from `data_in` is inserted into the least significant bit position.\n",
            "\n",
            "### Usage:\n",
            "- You would instantiate this module in a higher-level design or testbench where you can control the inputs (`clk`, `reset_n`, `data_in`, and `shift_enable`) and observe the `data_out` output.\n",
            "\n",
            "This design performs a left shift operation. If you need to perform a right shift instead, you can modify the assignment to be `data_out <= {data_in, data_out[7:1]};` instead.\n"
          ]
        }
      ]
    },
    {
      "cell_type": "code",
      "metadata": {
        "id": "aeee2251"
      },
      "source": [
        "output_verilog_code = '''\n",
        "module shift_register (\n",
        "  input wire clk,        // Clock signal\n",
        "  input wire reset_n,    // Active-low reset signal\n",
        "  input wire data_in,    // Data input\n",
        "  input wire shift_enable,\n",
        "  output reg [7:0] data_out\n",
        ");\n",
        "\n",
        "always @(posedge clk or negedge reset_n) begin\n",
        "  if (!reset_n) begin\n",
        "    // Active-low reset, so when reset_n is 0, reset data_out to 0\n",
        "    data_out <= 8'b00000000;\n",
        "  end else if (shift_enable) begin\n",
        "    // Shift data on the rising edge of the clock when shift_enable is 1\n",
        "    data_out <= {data_out[6:0], data_in};\n",
        "  end\n",
        "end\n",
        "\n",
        "endmodule\n",
        "'''\n",
        "filename = \"shift_register/shift_register.v\"\n",
        "# Write the extracted Verilog code to the file\n",
        "with open(filename, \"w\") as f:\n",
        "    f.write(output_verilog_code)"
      ],
      "execution_count": 19,
      "outputs": []
    },
    {
      "cell_type": "code",
      "source": [
        "!cd sequence_detector/ && iverilog -o sequence_detector.vvp sequence_detector.v sequence_detector_tb.v && vvp sequence_detector.vvp"
      ],
      "metadata": {
        "colab": {
          "base_uri": "https://localhost:8080/"
        },
        "id": "0n7_1iFNaLPu",
        "outputId": "3428a864-9104-4783-b11d-a95e5e546ce9"
      },
      "execution_count": 25,
      "outputs": [
        {
          "output_type": "stream",
          "name": "stdout",
          "text": [
            "sequence_detector.v:10: syntax error\n",
            "sequence_detector.v:10: error: Invalid module instantiation\n",
            "sequence_detector.v:14: syntax error\n",
            "sequence_detector.v:14: error: Invalid module instantiation\n"
          ]
        }
      ]
    },
    {
      "cell_type": "markdown",
      "source": [
        "### Example 4: Abro State Machine"
      ],
      "metadata": {
        "id": "aoyQ4egJm42y"
      }
    },
    {
      "cell_type": "code",
      "source": [
        "! mkdir -p abro_state_machine\n",
        "!cd abro_state_machine && curl -O https://raw.githubusercontent.com/FCHXWH823/LLM4ChipDesign/fe806e8f8b7cb8442ce161f452d070cfcf953656/VerilogGenBenchmark/TestBench/abro_state_machine_tb.v"
      ],
      "metadata": {
        "id": "dol-XZh2nXuo"
      },
      "execution_count": null,
      "outputs": []
    },
    {
      "cell_type": "code",
      "source": [
        "verilog_generation_prompt = '''\n",
        "I am trying to create a Verilog model for an ABRO state machine. It must meet the following specifications:\n",
        "    - Inputs:\n",
        "        - Clock\n",
        "        - Active-low reset\n",
        "        - A\n",
        "        - B\n",
        "    - Outputs:\n",
        "        - O\n",
        "        - State\n",
        "\n",
        "Other than the main output from ABRO machine, it should output the current state of the machine for use in verification.\n",
        "\n",
        "The states for this state machine should be one-hot encoded.\n",
        "\n",
        "How would I write a design that meets these specifications?\n",
        "'''"
      ],
      "metadata": {
        "id": "_Lswe_MEndR7"
      },
      "execution_count": null,
      "outputs": []
    },
    {
      "cell_type": "code",
      "source": [
        "from openai import OpenAI\n",
        "\n",
        "client = OpenAI(\n",
        "  api_key = \"\"\n",
        ")\n",
        "\n",
        "completion = client.chat.completions.create(\n",
        "  model=\"gpt-4o-mini\",\n",
        "  messages=[{\"role\":\"user\",\"content\":verilog_generation_prompt}],\n",
        "  max_tokens=1024, # limits the maximum number of tokens (words or pieces of words) that the model will generate in its response.\n",
        "  stream=False\n",
        ")\n",
        "\n",
        "print(completion.choices[0].message.content)"
      ],
      "metadata": {
        "id": "n71I_u3qnuOd"
      },
      "execution_count": null,
      "outputs": []
    },
    {
      "cell_type": "code",
      "source": [
        "output_verilog_code = '''\n",
        "'''\n",
        "filename = \"abro_state_machine/abro_state_machine.v\"\n",
        "# Write the extracted Verilog code to the file\n",
        "with open(filename, \"w\") as f:\n",
        "    f.write(output_verilog_code)"
      ],
      "metadata": {
        "id": "qFEau_Tcnx94"
      },
      "execution_count": null,
      "outputs": []
    },
    {
      "cell_type": "code",
      "source": [
        "!cd abro_state_machine/ && iverilog -o abro_state_machine.vvp abro_state_machine.v abro_state_machine_tb.v && vvp abro_state_machine.vvp"
      ],
      "metadata": {
        "colab": {
          "base_uri": "https://localhost:8080/"
        },
        "id": "Ih9y8Kg9XW2h",
        "outputId": "5be773bf-f7a7-4a04-966a-2d01384cab8c"
      },
      "execution_count": 20,
      "outputs": [
        {
          "output_type": "stream",
          "name": "stdout",
          "text": [
            "Error: Test case 0 failed. Expected: 00001010, Got: xxxxxxxx\n"
          ]
        }
      ]
    },
    {
      "cell_type": "markdown",
      "source": [
        "### Example 5: Dice Roller"
      ],
      "metadata": {
        "id": "TPEZm5nBoOx0"
      }
    },
    {
      "cell_type": "code",
      "source": [
        "!mkdir -p dice_roller\n",
        "!cd dice_roller && curl -O https://raw.githubusercontent.com/FCHXWH823/LLM4ChipDesign/fe806e8f8b7cb8442ce161f452d070cfcf953656/VerilogGenBenchmark/TestBench/dice_roller_tb.v"
      ],
      "metadata": {
        "colab": {
          "base_uri": "https://localhost:8080/"
        },
        "id": "lenN3sfCNy6g",
        "outputId": "18e1a024-4036-4e07-f200-265847b18f6c"
      },
      "execution_count": 3,
      "outputs": [
        {
          "output_type": "stream",
          "name": "stdout",
          "text": [
            "  % Total    % Received % Xferd  Average Speed   Time    Time     Time  Current\n",
            "                                 Dload  Upload   Total   Spent    Left  Speed\n",
            "\r  0     0    0     0    0     0      0      0 --:--:-- --:--:-- --:--:--     0\r100  1367  100  1367    0     0   7500      0 --:--:-- --:--:-- --:--:--  7510\n"
          ]
        }
      ]
    },
    {
      "cell_type": "code",
      "source": [
        "verilog_generation_prompt = '''\n",
        "I am trying to create a Verilog model for a simulated dice roller. It must meet the following specifications:\n",
        "    - Inputs:\n",
        "        - Clock\n",
        "        - Active-low reset\n",
        "        - Die select (2-bits)\n",
        "        - Roll\n",
        "    - Outputs:\n",
        "        - Rolled number (up to 8-bits)\n",
        "\n",
        "The design should simulate rolling either a 4-sided, 6-sided, 8-sided, or 20-sided die, based on the input die select. It should roll when the roll input goes high and output the random number based on the number of sides of the selected die.\n",
        "\n",
        "How would I write a design that meets these specifications?\n",
        "'''"
      ],
      "metadata": {
        "colab": {
          "base_uri": "https://localhost:8080/"
        },
        "id": "By9HsltQPM3T",
        "outputId": "6228bbb9-be59-44c1-f0fe-1382ca0886d7"
      },
      "execution_count": 4,
      "outputs": [
        {
          "output_type": "stream",
          "name": "stdout",
          "text": [
            "  % Total    % Received % Xferd  Average Speed   Time    Time     Time  Current\n",
            "                                 Dload  Upload   Total   Spent    Left  Speed\n",
            "\r  0     0    0     0    0     0      0      0 --:--:-- --:--:-- --:--:--     0\r100  2114  100  2114    0     0  12358      0 --:--:-- --:--:-- --:--:-- 12435\n"
          ]
        }
      ]
    },
    {
      "cell_type": "code",
      "source": [
        "from openai import OpenAI\n",
        "\n",
        "client = OpenAI(\n",
        "  api_key = \"\"\n",
        ")\n",
        "\n",
        "completion = client.chat.completions.create(\n",
        "  model=\"gpt-4o-mini\",\n",
        "  messages=[{\"role\":\"user\",\"content\":verilog_generation_prompt}],\n",
        "  max_tokens=1024, # limits the maximum number of tokens (words or pieces of words) that the model will generate in its response.\n",
        "  stream=False\n",
        ")\n",
        "\n",
        "print(completion.choices[0].message.content)"
      ],
      "metadata": {
        "id": "fMf5kJK2Pj1x"
      },
      "execution_count": null,
      "outputs": []
    },
    {
      "cell_type": "code",
      "source": [
        "output_verilog_code = '''\n",
        "'''\n",
        "filename = \"dice_roller/dice_roller.v\"\n",
        "# Write the extracted Verilog code to the file\n",
        "with open(filename, \"w\") as f:\n",
        "    f.write(output_verilog_code)"
      ],
      "metadata": {
        "collapsed": true,
        "id": "Y7YeDVvpPvH8"
      },
      "execution_count": null,
      "outputs": []
    },
    {
      "cell_type": "code",
      "source": [
        "!cd dice_roller/ && iverilog -o dice_roller.vvp dice_roller.v dice_roller_tb.v && vvp dice_roller.vvp"
      ],
      "metadata": {
        "id": "AA7PCY5Qot6I"
      },
      "execution_count": null,
      "outputs": []
    },
    {
      "cell_type": "markdown",
      "source": [
        "### Example 6: LFSR"
      ],
      "metadata": {
        "id": "MYh_qBaeo6rN"
      }
    },
    {
      "cell_type": "code",
      "source": [
        "!mkdir -p lfsr\n",
        "!cd lfsr && curl -O https://raw.githubusercontent.com/FCHXWH823/LLM4ChipDesign/fe806e8f8b7cb8442ce161f452d070cfcf953656/VerilogGenBenchmark/TestBench/lfsr_tb.v"
      ],
      "metadata": {
        "id": "vHL_CbpYpFVA"
      },
      "execution_count": null,
      "outputs": []
    },
    {
      "cell_type": "code",
      "source": [
        "verilog_generation_prompt = '''\n",
        "I am trying to create a Verilog model for an LFSR. It must meet the following specifications:\n",
        "\t- Inputs:\n",
        "\t\t- Clock\n",
        "        - Active-low reset\n",
        "\t- Outputs:\n",
        "\t\t- Data (8-bits)\n",
        "\n",
        "The initial state should be 10001010, and the taps should be at locations 1, 4, 6, and 7.\n",
        "\n",
        "How would I write a design that meets these specifications?\n",
        "'''"
      ],
      "metadata": {
        "id": "UCmY0DQapHV6"
      },
      "execution_count": null,
      "outputs": []
    },
    {
      "cell_type": "code",
      "source": [
        "from openai import OpenAI\n",
        "\n",
        "client = OpenAI(\n",
        "  api_key = \"\"\n",
        ")\n",
        "\n",
        "completion = client.chat.completions.create(\n",
        "  model=\"gpt-4o-mini\",\n",
        "  messages=[{\"role\":\"user\",\"content\":verilog_generation_prompt}],\n",
        "  max_tokens=1024, # limits the maximum number of tokens (words or pieces of words) that the model will generate in its response.\n",
        "  stream=False\n",
        ")\n",
        "\n",
        "print(completion.choices[0].message.content)"
      ],
      "metadata": {
        "id": "td7fvUAfP3Fy"
      },
      "execution_count": null,
      "outputs": []
    },
    {
      "cell_type": "code",
      "source": [
        "output_verilog_code = '''\n",
        "'''\n",
        "filename = \"lfsr/lfsr.v\"\n",
        "# Write the extracted Verilog code to the file\n",
        "with open(filename, \"w\") as f:\n",
        "    f.write(output_verilog_code)"
      ],
      "metadata": {
        "id": "i2ywfl8ApVJ4"
      },
      "execution_count": null,
      "outputs": []
    },
    {
      "cell_type": "code",
      "source": [
        "!cd lfsr/ && iverilog -o lfsr.vvp lfsr.v lfsr_tb.v && vvp lfsr.vvp"
      ],
      "metadata": {
        "id": "nE8m9KIOpaE2"
      },
      "execution_count": null,
      "outputs": []
    },
    {
      "cell_type": "markdown",
      "source": [
        "### Example 7: Sequence Generator"
      ],
      "metadata": {
        "id": "1bonEtP3pjLo"
      }
    },
    {
      "cell_type": "code",
      "source": [
        "!mkdir -p sequence_generator\n",
        "!cd sequence_generator && curl -O https://raw.githubusercontent.com/FCHXWH823/LLM4ChipDesign/fe806e8f8b7cb8442ce161f452d070cfcf953656/VerilogGenBenchmark/TestBench/sequence_generator_tb.v"
      ],
      "metadata": {
        "colab": {
          "base_uri": "https://localhost:8080/"
        },
        "id": "c_6LwwBep0a-",
        "outputId": "2c25fbfc-824b-4efb-97ce-a3040705372a"
      },
      "execution_count": 88,
      "outputs": [
        {
          "output_type": "stream",
          "name": "stdout",
          "text": [
            "  % Total    % Received % Xferd  Average Speed   Time    Time     Time  Current\n",
            "                                 Dload  Upload   Total   Spent    Left  Speed\n",
            "100  2344  100  2344    0     0   8897      0 --:--:-- --:--:-- --:--:--  8912\n"
          ]
        }
      ]
    },
    {
      "cell_type": "code",
      "source": [
        "verilog_generation_prompt = '''\n",
        "I am trying to create a Verilog model for a sequence generator. It must meet the following specifications:\n",
        "\t- Inputs:\n",
        "\t\t- Clock\n",
        "\t\t- Active-low reset\n",
        "\t\t- Enable\n",
        "\t- Outputs:\n",
        "\t\t- Data (8 bits)\n",
        "\n",
        "While enabled, it should generate an output sequence of the following hexadecimal values and then repeat:\n",
        "\t- 0xAF\n",
        "\t- 0xBC\n",
        "\t- 0xE2\n",
        "\t- 0x78\n",
        "\t- 0xFF\n",
        "\t- 0xE2\n",
        "\t- 0x0B\n",
        "\t- 0x8D\n",
        "\n",
        "How would I write a design that meets these specifications?\n",
        "'''"
      ],
      "metadata": {
        "id": "ZZ51jKB_qAZ8"
      },
      "execution_count": null,
      "outputs": []
    },
    {
      "cell_type": "code",
      "source": [
        "from openai import OpenAI\n",
        "\n",
        "client = OpenAI(\n",
        "  api_key = \"\"\n",
        ")\n",
        "\n",
        "completion = client.chat.completions.create(\n",
        "  model=\"gpt-4o-mini\",\n",
        "  messages=[{\"role\":\"user\",\"content\":verilog_generation_prompt}],\n",
        "  max_tokens=1024, # limits the maximum number of tokens (words or pieces of words) that the model will generate in its response.\n",
        "  stream=False\n",
        ")\n",
        "\n",
        "print(completion.choices[0].message.content)"
      ],
      "metadata": {
        "id": "D_2td8qpQAZn"
      },
      "execution_count": null,
      "outputs": []
    },
    {
      "cell_type": "code",
      "source": [
        "output_verilog_code = '''\n",
        "'''\n",
        "filename = \"sequence_generator/sequence_generator.v\"\n",
        "# Write the extracted Verilog code to the file\n",
        "with open(filename, \"w\") as f:\n",
        "    f.write(output_verilog_code)"
      ],
      "metadata": {
        "id": "7otShU4JQKLy"
      },
      "execution_count": null,
      "outputs": []
    },
    {
      "cell_type": "code",
      "source": [
        "!cd sequence_generator/ && iverilog -o sequence_generator.vvp sequence_generator.v sequence_generator_tb.v && vvp sequence_generator.vvp"
      ],
      "metadata": {
        "id": "YuNWZr4yQVFw"
      },
      "execution_count": null,
      "outputs": []
    },
    {
      "cell_type": "markdown",
      "source": [
        "### Example 8: Traffic Light"
      ],
      "metadata": {
        "id": "2mYgO272qj_P"
      }
    },
    {
      "cell_type": "code",
      "source": [
        "!mkdir -p traffic_light/\n",
        "!cd traffic_light/ && curl -O https://raw.githubusercontent.com/FCHXWH823/LLM4ChipDesign/fe806e8f8b7cb8442ce161f452d070cfcf953656/VerilogGenBenchmark/TestBench/traffic_light_tb.v"
      ],
      "metadata": {
        "id": "nyahVfomQeMT"
      },
      "execution_count": null,
      "outputs": []
    },
    {
      "cell_type": "code",
      "source": [
        "verilog_generation_prompt = '''\n",
        "I am trying to create a Verilog model for a traffic light state machine. It must meet the following specifications:\n",
        "    - Inputs:\n",
        "        - Clock\n",
        "        - Active-low reset\n",
        "        - Enable\n",
        "    - Outputs:\n",
        "        - Red\n",
        "        - Yellow\n",
        "        - Green\n",
        "\n",
        "The state machine should reset to a red light, change from red to green after 32 clock cycles, change from green to yellow after 20 clock cycles, and then change from yellow to red after 7 clock cycles.\n",
        "\n",
        "How would I write a design that meets these specifications?\n",
        "'''"
      ],
      "metadata": {
        "id": "KIZt85LSqxtZ"
      },
      "execution_count": null,
      "outputs": []
    },
    {
      "cell_type": "code",
      "source": [
        "from openai import OpenAI\n",
        "\n",
        "client = OpenAI(\n",
        "  api_key = \"\"\n",
        ")\n",
        "\n",
        "completion = client.chat.completions.create(\n",
        "  model=\"gpt-4o-mini\",\n",
        "  messages=[{\"role\":\"user\",\"content\":verilog_generation_prompt}],\n",
        "  max_tokens=1024, # limits the maximum number of tokens (words or pieces of words) that the model will generate in its response.\n",
        "  stream=False\n",
        ")\n",
        "\n",
        "print(completion.choices[0].message.content)"
      ],
      "metadata": {
        "id": "JGFID_llq2kT"
      },
      "execution_count": null,
      "outputs": []
    },
    {
      "cell_type": "code",
      "source": [
        "output_verilog_code = '''\n",
        "'''\n",
        "filename = \"traffic_light/traffic_light.v\"\n",
        "# Write the extracted Verilog code to the file\n",
        "with open(filename, \"w\") as f:\n",
        "    f.write(output_verilog_code)"
      ],
      "metadata": {
        "id": "jwGMDyqiq5RV"
      },
      "execution_count": null,
      "outputs": []
    },
    {
      "cell_type": "code",
      "source": [
        "!cd traffic_light/ && iverilog -o traffic_light.vvp traffic_light.v traffic_light_tb.v && vvp traffic_light.vvp"
      ],
      "metadata": {
        "id": "k9OBCV4lrL8E"
      },
      "execution_count": null,
      "outputs": []
    }
  ]
}