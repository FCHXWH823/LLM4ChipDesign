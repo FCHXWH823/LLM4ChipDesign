{
  "cells": [
    {
      "cell_type": "markdown",
      "metadata": {
        "id": "cb7nhGQJu7CA"
      },
      "source": [
        "# Setup Environment"
      ]
    },
    {
      "cell_type": "code",
      "execution_count": null,
      "metadata": {
        "id": "Vd2tUmqSmFQn"
      },
      "outputs": [],
      "source": [
        "# @title Install apt dependencies\n",
        "!apt-get update\n",
        "!apt-get install git help2man perl python3 make autoconf g++ flex bison ccache libgoogle-perftools-dev numactl perl-doc libfl2 libfl2 zlib1g zlib1g-dev\n",
        "### Installing pip dependencies\n",
        "!pip install openai==0.28\n",
        "!pip install gdown\n",
        "MODEL=\"gpt-3.5-turbo-16k\""
      ]
    },
    {
      "cell_type": "code",
      "execution_count": null,
      "metadata": {
        "id": "z0YrsvqrUTJ9"
      },
      "outputs": [],
      "source": [
        "# @title Verilator Setup\n",
        "import gdown\n",
        "url = 'https://drive.google.com/uc?id=1BvwwX_TTbqZDi0eaLP_I52CDm3gnnSf8'\n",
        "output = 'verilator.zip'\n",
        "gdown.download(url, output, quiet=False)\n",
        "!unzip verilator.zip\n",
        "!chmod -R +x /content/verilator/bin\n",
        "%env VERILATOR_ROOT=/content/verilator\n",
        "%env PATH=/content/verilator/bin:/opt/bin:/usr/local/nvidia/bin:/usr/local/cuda/bin:/usr/local/sbin:/usr/local/bin:/usr/sbin:/usr/bin:/sbin:/bin:/tools/node/bin:/tools/google-cloud-sdk/bin"
      ]
    },
    {
      "cell_type": "markdown",
      "metadata": {
        "id": "nLR49WQR0nAZ"
      },
      "source": [
        "## Final Setup Step\n",
        "Load the rest of the required files for the demo and set them up:"
      ]
    },
    {
      "cell_type": "code",
      "execution_count": null,
      "metadata": {
        "id": "rY7rB7ZKOTSU"
      },
      "outputs": [],
      "source": [
        "!git clone https://github.com/tamu-seth-lab-soc/llm_assertions.git"
      ]
    },
    {
      "cell_type": "markdown",
      "metadata": {
        "id": "_BlzlKcQ1gXt"
      },
      "source": [
        "## Check the Setup\n",
        "Check the setup by simulating a simple verilog code:\n",
        "- The simulation should output `Welcome to the tutorial on generating assertions using LLMs!`"
      ]
    },
    {
      "cell_type": "code",
      "execution_count": null,
      "metadata": {
        "id": "ZlNrwayQ1pif"
      },
      "outputs": [],
      "source": [
        "%cd  /content/llm_assertions/sim\n",
        "!verilator --binary -j 0 ../src/helloworld.sv 1> comp.log 2>&1\n",
        "!obj_dir/Vhelloworld"
      ]
    },
    {
      "cell_type": "markdown",
      "metadata": {
        "id": "b_szyRVG3Cc3"
      },
      "source": [
        "# Task 1: Traffic controller design\n",
        "\n",
        "**Goal:** Understand the functionality of traffic controller, simulate it with a simple input, and check the output\n",
        "- You can check the source code of the traffic controller here: `/content/llm_assertions/src/traffic_controller.sv`\n",
        "- Below is an abstract diagram explaining the code:"
      ]
    },
    {
      "cell_type": "markdown",
      "metadata": {
        "id": "a3t8CsnH-RTE"
      },
      "source": [
        "![traffic_controller.svg](data:image/svg+xml;base64,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)"
      ]
    },
    {
      "cell_type": "code",
      "execution_count": null,
      "metadata": {
        "id": "WLhu4cJGmR7k"
      },
      "outputs": [],
      "source": [
        "%cd  /content/llm_assertions/sim\n",
        "!verilator --assert --binary -j 0  ../tb/tb_simple.sv ../src/traffic_controller.sv 1> comp.log 2>&1\n",
        "!obj_dir/Vtb_simple"
      ]
    },
    {
      "cell_type": "markdown",
      "metadata": {
        "id": "nIR-Due_HcNT"
      },
      "source": [
        "# Task 2: Generate assertions using LLMs\n",
        "**Goal:** Understand the prompt for LLM, run the LLM, check the response\n",
        "- The subsequent code queries LLM with different levels of details in the prompt to generate the assertion"
      ]
    },
    {
      "cell_type": "code",
      "execution_count": null,
      "metadata": {
        "id": "d8Mi6eMnHzGT"
      },
      "outputs": [],
      "source": [
        "#@title Utility functions\n",
        "\n",
        "import openai\n",
        "\n",
        "class ChatGPT3p5():\n",
        "    \"\"\"ChatGPT Large Language Model.\"\"\"\n",
        "\n",
        "    def __init__(self):\n",
        "        openai.api_key=\"\"\n",
        "\n",
        "    def generate(self, messages, seed=None,temperature=0.7):\n",
        "        response = openai.ChatCompletion.create(\n",
        "            model=MODEL,\n",
        "            messages=messages,\n",
        "            seed=seed, # For deterministic outputs\n",
        "            temperature=temperature  # For deterministic outputs\n",
        "        )\n",
        "        return response['choices'][0]['message']['content']"
      ]
    },
    {
      "cell_type": "code",
      "execution_count": null,
      "metadata": {
        "id": "poc1klAiPvIz"
      },
      "outputs": [],
      "source": [
        "#@title Simple prompt for YELLOW->RED with no context\n",
        "\n",
        "prompt = \"Generate a hardware assertion to check that a traffic signal\\\n",
        "becomes red after yellow\"\n",
        "model = ChatGPT3p5() # <-- we are using ChatGPT 3.5\n",
        "messages=[ # <-- this is the prompt to LLM\n",
        "            {\"role\": \"system\", \"content\": \"You are a helpful assistant.\"},\n",
        "            {\"role\": \"user\", \"content\": prompt}\n",
        "        ]\n",
        "\n",
        "print(model.generate(messages)) # <-- this prints the response from the LLM"
      ]
    },
    {
      "cell_type": "code",
      "execution_count": null,
      "metadata": {
        "id": "Z5eQqZK8SkdG"
      },
      "outputs": [],
      "source": [
        "#@title Detailed prompt for YELLOW->RED with assertion beginning\n",
        "\n",
        "prompt = \"Complete the following hardware assertion to check that a traffic \\\n",
        "#signal named 'signal''s value is 'RED' after 'YELLOW'\\nassert property \"\n",
        "\n",
        "model = ChatGPT3p5() # <-- we are using ChatGPT 3.5\n",
        "messages=[ # <-- this is the prompt to LLM\n",
        "            {\"role\": \"system\", \"content\": \"You are a helpful assistant.\"},\n",
        "            {\"role\": \"user\", \"content\": prompt}\n",
        "        ]\n",
        "\n",
        "print(model.generate(messages)) # <-- this prints the response from the LLM"
      ]
    },
    {
      "cell_type": "code",
      "execution_count": null,
      "metadata": {
        "id": "B3QSuQpTqCM6"
      },
      "outputs": [],
      "source": [
        "#@title Prompt for YELLOW->RED with design source as input\n",
        "\n",
        "with open(\"/content/llm_assertions/src/traffic_controller.sv\",'r') as f:\n",
        "    design_source = f.read()\n",
        "prompt = design_source\n",
        "prompt += \"Complete the following hardware assertion to check at every positive edge of the clock that \\\n",
        " if the value of the signal is YELLOW, then it is RED in the next cycle\\nassert property \"\n",
        "\n",
        "model = ChatGPT3p5() # <-- we are using ChatGPT 3.5\n",
        "messages=[ # <-- this is the prompt to LLM\n",
        "            {\"role\": \"system\", \"content\": \"You are a helpful assistant.\"},\n",
        "            {\"role\": \"user\", \"content\": prompt}\n",
        "        ]\n",
        "\n",
        "print(model.generate(messages)) # <-- this prints the response from the LLM"
      ]
    },
    {
      "cell_type": "code",
      "execution_count": null,
      "metadata": {
        "id": "F6rrStcqs5Ap"
      },
      "outputs": [],
      "source": [
        "#@title Very detailed prompt for YELLOW->RED with detailed example hardware assertion\n",
        "\n",
        "prompt = \"An example of hardware assertion to check that at every \\\n",
        "positive edge of clock, if the value of 'data' is VALID, \\\n",
        "then the value of 'data' in the next clock cycle is DONE is: \\\n",
        "assert property (@(posedge clk) (data == VALID) |=> (data == DONE));\\n\"\n",
        "\n",
        "prompt += \"Using the above example, generate a hardware assertion to check that at \\\n",
        "every positive edge of clk, if the value of 'signal' is YELLOW, then \\\n",
        "the value of 'signal' in the next clock cycle is RED. \"\n",
        "\n",
        "model = ChatGPT3p5() # <-- we are using ChatGPT 3.5\n",
        "messages=[ # <-- this is the prompt to LLM\n",
        "            {\"role\": \"system\", \"content\": \"You are a helpful assistant.\"},\n",
        "            {\"role\": \"user\", \"content\": prompt}\n",
        "        ]\n",
        "\n",
        "print(model.generate(messages)) # <-- this prints the response from the LLM\n",
        "#print(model.generate(messages,seed=12345,temperature=0.0)) # <-- this tries to generate a deterministic response from the LLM"
      ]
    },
    {
      "cell_type": "markdown",
      "metadata": {
        "id": "piY0mQZpzDIB"
      },
      "source": [
        "**Goal:** Simulate the traffic controller with the LLM-generated assertions and evaluate the correctness of the assertion based on simulation output\n",
        "- Since the assertions generated by the LLM may be incorrect, we compile the testbench and simulate it seperately as shown in the next two commands\n",
        "- For the LLM-generated assertion do the following to evalaute it:\n",
        "  - (This is a manual step) Open the testbench located at /content/llm_assertions/tb/tb_triggering.sv and add the LLM-generated assertion at line 130.\n",
        "  - Run the compile command and check the `/content/llm_assertions/sim/comp.log` file to make sure there are no compilation errors\n",
        "  - If the compilation failed, there is no need to run the simulation. If the compilation succeeded, run the simulation command"
      ]
    },
    {
      "cell_type": "code",
      "execution_count": null,
      "metadata": {
        "id": "FKwhRY3gHuz7"
      },
      "outputs": [],
      "source": [
        "#@title Compile\n",
        "%cd  /content/llm_assertions/sim\n",
        "!verilator --assert --binary -j 0  ../tb/tb_simple.sv ../src/traffic_controller.sv 1> comp.log 2>&1\n",
        "#!verilator --assert --binary -j 0  ../tb/tb_triggering.sv ../src/traffic_controller.sv ../src/traffic_controller_golden.sv  1> comp.log 2>&1"
      ]
    },
    {
      "cell_type": "code",
      "execution_count": null,
      "metadata": {
        "id": "O89raCl4zbGL"
      },
      "outputs": [],
      "source": [
        "#@title Simulate\n",
        "%cd  /content/llm_assertions/sim\n",
        "!obj_dir/Vtb_simple\n",
        "#!obj_dir/Vtb_triggering"
      ]
    },
    {
      "cell_type": "markdown",
      "metadata": {
        "id": "2DaQaSPNvKRj"
      },
      "source": [
        "# Task 3: Traffic controller bug\n",
        "**Goal:** Understand the bug in traffic controller, simulate it with bug triggering input and check the output\n",
        "- To highlight the bug in traffic controller, this testbench simulates both the buggy traffic controller and a bugfree golden traffic controller and compares their outputs\n",
        "- Notice the time instance where `signal_diff`'s value is `1` in the simulation output. These are instances where the output of the buggy traffic controller is different from that of bugfree golden traffic controller"
      ]
    },
    {
      "cell_type": "code",
      "execution_count": null,
      "metadata": {
        "id": "klvU6XuF051A"
      },
      "outputs": [],
      "source": [
        "%cd  /content/llm_assertions/sim\n",
        "!verilator --assert --binary -j 0  ../tb/tb_triggering.sv ../src/traffic_controller.sv ../src/traffic_controller_golden.sv  1> comp.log 2>&1\n",
        "!obj_dir/Vtb_triggering"
      ]
    },
    {
      "cell_type": "markdown",
      "metadata": {
        "id": "FC5m97QgHoVp"
      },
      "source": [
        "# Task 4: Finding the bug using LLM\n",
        "**Goal:** Generate assertion using LLM, compile, simulate, find the bug\n",
        "\n",
        "Recall that the bug is the transition highlighted in red below:\n",
        "\n",
        "![traffic_controller_bug_highlighted.svg](data:image/svg+xml;base64,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)"
      ]
    },
    {
      "cell_type": "code",
      "execution_count": null,
      "metadata": {
        "id": "sqdwZ1_xWqNU"
      },
      "outputs": [],
      "source": [
        "#@title Finding the bug\n",
        "\n",
        "prompt = \"Complete the following hardware assertion to check that at \\\n",
        "every positive edge of clk, if the value of the signal register is RED, then \\\n",
        "the value of the signal register in the previous clock cycle is either RED or\\\n",
        " YELLOW\\nassert property. \"\n",
        "\n",
        "prompt += \"An example of hardware assertion to check that at every \\\n",
        "positive edge of clock, if the value of the data register is DONE, \\\n",
        "then the value of the data register in the previous clock cycle is either VALID\\\n",
        " or DONE is: assert property (@(posedge clk) (data == DONE) |-> ($past(data) == VALID) || ($past(data) == DONE));\"\n",
        "\n",
        "model = ChatGPT3p5() # <-- we are using ChatGPT 3.5\n",
        "messages=[ # <-- this is the prompt to LLM\n",
        "            {\"role\": \"system\", \"content\": \"You are a helpful assistant.\"},\n",
        "            {\"role\": \"user\", \"content\": prompt}\n",
        "        ]\n",
        "\n",
        "print(model.generate(messages)) # <-- this prints the response from the LLM\n",
        "#print(model.generate(messages,seed=12345,temperature=0.0)) # <-- this tries to generate a deterministic response from the LLM"
      ]
    },
    {
      "cell_type": "markdown",
      "metadata": {
        "id": "1M2gISlw5uyk"
      },
      "source": [
        "**Next**\n",
        "- (This is a manual step) Open the testbench located at /content/llm_assertions/tb/tb_triggering.sv and add the LLM-generated assertion at line 131.\n",
        "- Run the compile command and check the /content/llm_assertions/sim/comp.log file to make sure there are no compilation errors\n",
        "- If the compilation failed, there is no need to run the simulation. If the compilation succeeded, run the simulation command"
      ]
    },
    {
      "cell_type": "code",
      "execution_count": null,
      "metadata": {
        "id": "tnTG7a1Y5SYY"
      },
      "outputs": [],
      "source": [
        "#@title Compile\n",
        "%cd  /content/llm_assertions/sim\n",
        "!verilator --assert --binary -j 0  ../tb/tb_triggering.sv ../src/traffic_controller.sv ../src/traffic_controller_golden.sv  1> comp.log 2>&1"
      ]
    },
    {
      "cell_type": "code",
      "execution_count": null,
      "metadata": {
        "id": "E3vPIBtl5Tcz"
      },
      "outputs": [],
      "source": [
        "#@title Simulate\n",
        "%cd  /content/llm_assertions/sim\n",
        "!obj_dir/Vtb_triggering"
      ]
    },
    {
      "cell_type": "markdown",
      "metadata": {
        "id": "HdieW75Y-1Z0"
      },
      "source": [
        "The error message above shows that the assertion was triggered and the bug was found"
      ]
    }
  ],
  "metadata": {
    "colab": {
      "collapsed_sections": [
        "cb7nhGQJu7CA",
        "b_szyRVG3Cc3",
        "nIR-Due_HcNT",
        "2DaQaSPNvKRj",
        "FC5m97QgHoVp"
      ],
      "private_outputs": true,
      "provenance": []
    },
    "kernelspec": {
      "display_name": "Python 3",
      "name": "python3"
    },
    "language_info": {
      "name": "python"
    }
  },
  "nbformat": 4,
  "nbformat_minor": 0
}
